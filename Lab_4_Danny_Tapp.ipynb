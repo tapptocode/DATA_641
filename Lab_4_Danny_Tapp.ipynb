{
 "cells": [
  {
   "cell_type": "markdown",
   "metadata": {},
   "source": [
    "# 1"
   ]
  },
  {
   "cell_type": "code",
   "execution_count": 77,
   "metadata": {},
   "outputs": [],
   "source": [
    "import pandas as pd"
   ]
  },
  {
   "cell_type": "code",
   "execution_count": 79,
   "metadata": {},
   "outputs": [],
   "source": [
    "covid_data = pd.read_csv(\"COVID19_Dataset-text_labels_only.csv\")"
   ]
  },
  {
   "cell_type": "markdown",
   "metadata": {},
   "source": [
    "# 2"
   ]
  },
  {
   "cell_type": "code",
   "execution_count": 80,
   "metadata": {},
   "outputs": [],
   "source": [
    "import nltk\n",
    "from nltk.tokenize import word_tokenize"
   ]
  },
  {
   "cell_type": "code",
   "execution_count": 81,
   "metadata": {},
   "outputs": [],
   "source": [
    "vocabulary = set()\n",
    "\n",
    "for tweet in covid_data['Tweet']:\n",
    "    tokens = word_tokenize(tweet)\n",
    "    vocabulary.update(tokens)\n",
    "\n",
    "vocabulary = sorted(vocabulary)\n",
    "\n",
    "word_to_index = {word: idx for idx, word in enumerate(vocabulary)}\n",
    "\n",
    "def one_hot_encode(tweet):\n",
    "    tokens = word_tokenize(tweet)\n",
    "    one_hot_vector = [0] * len(vocabulary)\n",
    "    for token in tokens:\n",
    "        if token in word_to_index:\n",
    "            one_hot_vector[word_to_index[token]] = 1\n",
    "    return one_hot_vector"
   ]
  },
  {
   "cell_type": "code",
   "execution_count": 82,
   "metadata": {},
   "outputs": [],
   "source": [
    "covid_data['one_hot_encoded'] = covid_data['Tweet'].apply(one_hot_encode)"
   ]
  },
  {
   "cell_type": "markdown",
   "metadata": {},
   "source": [
    "# 3"
   ]
  },
  {
   "cell_type": "code",
   "execution_count": 83,
   "metadata": {},
   "outputs": [],
   "source": [
    "from collections import Counter\n",
    "def bag_of_words(tweet):\n",
    "    tokens = word_tokenize(tweet)\n",
    "    word_counts = Counter(tokens)\n",
    "    bow_vector = [0] * len(vocabulary)\n",
    "    for word, count in word_counts.items():\n",
    "        if word in word_to_index:\n",
    "            bow_vector[word_to_index[word]] = count\n",
    "    return bow_vector\n",
    "\n",
    "covid_data['bow'] = covid_data['Tweet'].apply(bag_of_words)"
   ]
  },
  {
   "cell_type": "markdown",
   "metadata": {},
   "source": [
    "# 4"
   ]
  },
  {
   "cell_type": "code",
   "execution_count": 84,
   "metadata": {},
   "outputs": [],
   "source": [
    "from nltk.util import ngrams"
   ]
  },
  {
   "cell_type": "code",
   "execution_count": 85,
   "metadata": {},
   "outputs": [],
   "source": [
    "ngram_vocab = set()\n",
    "for tweet in covid_data['Tweet']:\n",
    "    tokens = word_tokenize(tweet)\n",
    "    n_grams = list(ngrams(tokens,2))\n",
    "    ngram_vocab.update(n_grams)\n",
    "\n",
    "ngram_w_2_idx = {ngram: idx for idx, ngram in enumerate(ngram_vocab)}"
   ]
  },
  {
   "cell_type": "code",
   "execution_count": 86,
   "metadata": {},
   "outputs": [],
   "source": [
    "def bag_of_ngrams(tweet,n):\n",
    "    tokens = word_tokenize(tweet)\n",
    "    n_grams = list(ngrams(tokens,n))\n",
    "    ngram_counts = Counter(n_grams)\n",
    "    ngram_vector = [0] * len(ngram_vocab)\n",
    "    for ngram, count in ngram_counts.items():\n",
    "        if ngram in ngram_w_2_idx:\n",
    "            ngram_vector[ngram_w_2_idx[ngram]] = count\n",
    "    return ngram_vector\n",
    "\n",
    "covid_data['bigrams'] = covid_data['Tweet'].apply(lambda x: bag_of_ngrams(x,n=2))"
   ]
  },
  {
   "cell_type": "markdown",
   "metadata": {},
   "source": [
    "# 5"
   ]
  },
  {
   "cell_type": "code",
   "execution_count": 87,
   "metadata": {},
   "outputs": [],
   "source": [
    "from sklearn.feature_extraction.text import TfidfVectorizer\n",
    "vectorizer = TfidfVectorizer()"
   ]
  },
  {
   "cell_type": "code",
   "execution_count": 88,
   "metadata": {},
   "outputs": [],
   "source": [
    "x_tfidf = vectorizer.fit_transform(covid_data['Tweet'])\n",
    "\n",
    "x_tfidf_dense = x_tfidf.toarray()\n",
    "\n",
    "tfidf_df = pd.DataFrame(x_tfidf_dense,columns=vectorizer.get_feature_names_out())\n",
    "\n",
    "covid_data_tfidf = pd.concat([covid_data,tfidf_df],axis=1)"
   ]
  }
 ],
 "metadata": {
  "kernelspec": {
   "display_name": "base",
   "language": "python",
   "name": "python3"
  },
  "language_info": {
   "codemirror_mode": {
    "name": "ipython",
    "version": 3
   },
   "file_extension": ".py",
   "mimetype": "text/x-python",
   "name": "python",
   "nbconvert_exporter": "python",
   "pygments_lexer": "ipython3",
   "version": "3.12.4"
  }
 },
 "nbformat": 4,
 "nbformat_minor": 2
}
