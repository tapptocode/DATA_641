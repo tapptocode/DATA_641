{
 "cells": [
  {
   "cell_type": "markdown",
   "metadata": {},
   "source": [
    "# 1"
   ]
  },
  {
   "cell_type": "code",
   "execution_count": 54,
   "metadata": {},
   "outputs": [],
   "source": [
    "import pandas as pd"
   ]
  },
  {
   "cell_type": "code",
   "execution_count": 55,
   "metadata": {},
   "outputs": [],
   "source": [
    "fake_news = pd.read_csv(\"fakeNews.csv\")\n",
    "true_news = pd.read_csv(\"trueNews.csv\")\n"
   ]
  },
  {
   "cell_type": "markdown",
   "metadata": {},
   "source": [
    "# 2"
   ]
  },
  {
   "cell_type": "code",
   "execution_count": 56,
   "metadata": {},
   "outputs": [],
   "source": [
    "import nltk\n",
    "from nltk.stem import WordNetLemmatizer\n",
    "from nltk.tokenize import RegexpTokenizer\n",
    "tokenizer = RegexpTokenizer(r'\\w+')\n",
    "lemmatizer = WordNetLemmatizer()\n",
    "import re"
   ]
  },
  {
   "cell_type": "code",
   "execution_count": 57,
   "metadata": {},
   "outputs": [],
   "source": [
    "def remove_hashtags(text):\n",
    "    text = re.sub(r'#','',text)\n",
    "    return text"
   ]
  },
  {
   "cell_type": "code",
   "execution_count": 58,
   "metadata": {},
   "outputs": [],
   "source": [
    "def remove_small_words(text):\n",
    "    words = text.split()\n",
    "    words = [word for word in words if len(word) >= 2]\n",
    "    return ' '.join(words)"
   ]
  },
  {
   "cell_type": "code",
   "execution_count": 59,
   "metadata": {},
   "outputs": [],
   "source": [
    "def remove_punctuation(text):\n",
    "    tokenized_text = tokenizer.tokenize(text)\n",
    "    return ' '.join(tokenized_text)"
   ]
  },
  {
   "cell_type": "code",
   "execution_count": 60,
   "metadata": {},
   "outputs": [],
   "source": [
    "def lem(text):\n",
    "    lemmatized_text = lemmatizer.lemmatize(text)\n",
    "    return lemmatized_text"
   ]
  },
  {
   "cell_type": "code",
   "execution_count": 61,
   "metadata": {},
   "outputs": [],
   "source": [
    "fake_news['cleaned'] = fake_news['Text'].apply(remove_hashtags)\\\n",
    "    .apply(remove_small_words)\\\n",
    "    .apply(remove_punctuation)\\\n",
    "    .apply(lem)"
   ]
  },
  {
   "cell_type": "code",
   "execution_count": 62,
   "metadata": {},
   "outputs": [],
   "source": [
    "true_news['cleaned'] = true_news['Text'].apply(remove_hashtags)\\\n",
    "    .apply(remove_small_words)\\\n",
    "    .apply(remove_punctuation)\\\n",
    "    .apply(lem)"
   ]
  },
  {
   "cell_type": "markdown",
   "metadata": {},
   "source": [
    "# 3"
   ]
  },
  {
   "cell_type": "code",
   "execution_count": 63,
   "metadata": {},
   "outputs": [],
   "source": [
    "fake_news['label'] = 'fake'\n",
    "true_news['label'] = 'true'"
   ]
  },
  {
   "cell_type": "code",
   "execution_count": 64,
   "metadata": {},
   "outputs": [],
   "source": [
    "all_news = pd.concat([fake_news,true_news])\n",
    "just_variables = pd.concat([fake_news[['label','cleaned']],true_news[['label','cleaned']]])"
   ]
  },
  {
   "cell_type": "code",
   "execution_count": 65,
   "metadata": {},
   "outputs": [],
   "source": [
    "from sklearn.model_selection import train_test_split\n",
    "from collections import Counter\n",
    "from sklearn.feature_extraction.text import TfidfVectorizer\n",
    "from sklearn.linear_model import LogisticRegression\n",
    "from sklearn.metrics import accuracy_score, precision_score, recall_score\n",
    "from sklearn.metrics import f1_score, confusion_matrix\n",
    "import seaborn as sns\n",
    "import matplotlib.pyplot as plt"
   ]
  },
  {
   "cell_type": "code",
   "execution_count": 66,
   "metadata": {},
   "outputs": [],
   "source": [
    "x = just_variables['cleaned']\n",
    "y = just_variables['label']"
   ]
  },
  {
   "cell_type": "code",
   "execution_count": 67,
   "metadata": {},
   "outputs": [],
   "source": [
    "x_train, x_test, y_train, y_test = train_test_split(x,y,test_size=0.30,random_state=42)"
   ]
  },
  {
   "cell_type": "code",
   "execution_count": 68,
   "metadata": {},
   "outputs": [],
   "source": [
    "tfidf = TfidfVectorizer(stop_words='english',max_features=5000)\n",
    "x_train_tfidf = tfidf.fit_transform(x_train)\n",
    "x_test_tfidf = tfidf.transform(x_test)"
   ]
  },
  {
   "cell_type": "markdown",
   "metadata": {},
   "source": [
    "# 4"
   ]
  },
  {
   "cell_type": "code",
   "execution_count": 69,
   "metadata": {},
   "outputs": [],
   "source": [
    "model = LogisticRegression(max_iter=1000)\n",
    "model.fit(x_train_tfidf,y_train)\n",
    "y_pred = model.predict(x_test_tfidf)"
   ]
  },
  {
   "cell_type": "code",
   "execution_count": 70,
   "metadata": {},
   "outputs": [],
   "source": [
    "accuracy = accuracy_score(y_test,y_pred)\n",
    "precision = precision_score(y_test,y_pred,pos_label='true')\n",
    "recall = recall_score(y_test,y_pred,pos_label='true')\n",
    "f1 = f1_score(y_test,y_pred,pos_label='true')"
   ]
  },
  {
   "cell_type": "code",
   "execution_count": 71,
   "metadata": {},
   "outputs": [
    {
     "name": "stdout",
     "output_type": "stream",
     "text": [
      "Accuracy: 0.993\n",
      "Precision: 0.997\n",
      "Recall: 0.988\n",
      "F1-score: 0.993\n"
     ]
    }
   ],
   "source": [
    "print(f'Accuracy: {accuracy:.3f}')\n",
    "print(f'Precision: {precision:.3f}')\n",
    "print(f'Recall: {recall:.3f}')\n",
    "print(f'F1-score: {f1:.3f}')"
   ]
  },
  {
   "cell_type": "markdown",
   "metadata": {},
   "source": [
    "# 5"
   ]
  },
  {
   "cell_type": "code",
   "execution_count": 72,
   "metadata": {},
   "outputs": [
    {
     "data": {
      "image/png": "[encoded data removed]",
      "text/plain": [
       "<Figure size 640x480 with 2 Axes>"
      ]
     },
     "metadata": {},
     "output_type": "display_data"
    }
   ],
   "source": [
    "cm = confusion_matrix(y_test,y_pred,labels = ['true','fake'])\n",
    "sns.heatmap(cm,annot=True,fmt='d',cmap='Greens',xticklabels=['True','Fake'],yticklabels=['True','Fake'])\n",
    "plt.xlabel('Predicted')\n",
    "plt.ylabel('Actual')\n",
    "plt.title('Confusion Matrix')\n",
    "plt.show()"
   ]
  },
  {
   "cell_type": "code",
   "execution_count": 73,
   "metadata": {},
   "outputs": [
    {
     "name": "stdout",
     "output_type": "stream",
     "text": [
      "Misclassified samples:\n",
      "Actual: true, Predicted: fake\n",
      "Text: Just in Indian begins export of major farm products amid COVID 19 lockdown Govt PTI COVID19 lockdown\n",
      "Actual: true, Predicted: fake\n",
      "Text: Italian and South Korean nationals who are granted fresh visa issued after 05 03 2020 should carry Tested Negative for COVID 19 medical certificate from designated laboratories of Italy and South Korea\n",
      "Actual: true, Predicted: fake\n",
      "Text: Just in Goa Chief Minister Pramod Sawant says lockdown 4 0 will start from May 18 Even though Goa is COVID 19 free state it will follow this lockdown and Section 144 will continue till this lockdown is in force Centre will decide on the duration\n",
      "Actual: fake, Predicted: true\n",
      "Text: Doctors encouraged by hospitals and AMA to overcount COVID 19 deaths\n",
      "Actual: fake, Predicted: true\n",
      "Text: Omani princess Sayyida Mona bint Fahd al Said tweets against India\n",
      "Actual: true, Predicted: fake\n",
      "Text: Just In Gujarat adds 372 new COVID 19 cases and 20 deaths So far 980 people died of the virus in the state LangaMahesh reports Coronavirus\n",
      "Actual: true, Predicted: fake\n",
      "Text: Just in Coronavirus India to send C 17 Globemaster military aircraft to COVID 19 hit Iran tonight to evacuate stranded Indians Official sources PTI\n",
      "Actual: true, Predicted: fake\n",
      "Text: Just in 76 year old man from Karnataka who died on Tuesday has turned out to be India s first coronavirus fatality Tests of samples taken earlier confirmed COVID 19 State govt\n",
      "Actual: true, Predicted: fake\n",
      "Text: To fight Covid_19 virus our main force lies with the State and the District level My suggestion is that the level should be bottom up and not top down PM should empower the CMs and district level authorities RahulGandhi\n",
      "Actual: true, Predicted: fake\n",
      "Text: Without sharing names information is provided to the users about the others Data of only less than 13 000 people who had tested positive has been transferred to the server If someone is being tested for Covid their data is erased in 45 days HealthMinistry AarogyaSetuApp\n"
     ]
    }
   ],
   "source": [
    "misclassified_indices = [i for i in range(len(y_test)) if y_test.iloc[i] != y_pred[i]]\n",
    "misclassified_samples = x_test.iloc[misclassified_indices]\n",
    "misclassified_true_lables = y_test.iloc[misclassified_indices]\n",
    "misclassified_pred_labels = y_pred[misclassified_indices]\n",
    "print(\"Misclassified samples:\")\n",
    "for i in range(min(10, len(misclassified_samples))):\n",
    "    print(f\"Actual: {misclassified_true_lables.iloc[i]}, Predicted: {misclassified_pred_labels[i]}\")\n",
    "    print(f\"Text: {misclassified_samples.iloc[i]}\")"
   ]
  },
  {
   "cell_type": "markdown",
   "metadata": {},
   "source": [
    "### Conclusion:\n",
    "##### It appears that my model had more false negatives than false positives, since there were only 3 false positives to 13 false negatives. It had higher recall compared to precision, meaning that it did really well identifying true news posts, but it had more false negatives where it incorrectly labeled true news posts as fake. By looking at the misclassified posts, it appears that there were multiple news posts which began with \"Just in\" that were predicted to be fake but were actually true. This model could be improved by including bigrams or trigrams in the future. "
   ]
  }
 ],
 "metadata": {
  "kernelspec": {
   "display_name": "base",
   "language": "python",
   "name": "python3"
  },
  "language_info": {
   "codemirror_mode": {
    "name": "ipython",
    "version": 3
   },
   "file_extension": ".py",
   "mimetype": "text/x-python",
   "name": "python",
   "nbconvert_exporter": "python",
   "pygments_lexer": "ipython3",
   "version": "3.12.4"
  }
 },
 "nbformat": 4,
 "nbformat_minor": 2
}
